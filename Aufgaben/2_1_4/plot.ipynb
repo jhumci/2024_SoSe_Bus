{
 "cells": [
  {
   "cell_type": "code",
   "execution_count": null,
   "metadata": {},
   "outputs": [
    {
     "ename": "",
     "evalue": "",
     "output_type": "error",
     "traceback": [
      "\u001b[1;31mThe kernel failed to start due to the missing module 'pwmio'. Consider installing this module.\n",
      "\u001b[1;31mClick <a href='https://aka.ms/kernelFailuresMissingModule'>here</a> for more info.\n",
      "\u001b[1;31mSome of the following files found in the working directory may have prevented the Kernel from starting. Consider renaming them.\n",
      "\u001b[1;31mFile(s): <a href='file://mcifs02/jlhuber%24/Work/Vorlesungen/2024_SoSe_Bus/Aufgaben/2_1_4/code.py?line=1'>~\\code.py</a> might need to be renamed.\n",
      "\u001b[1;31mClick <a href='https://aka.ms/JupyterKernelStartFailureOverrideReservedName'>here</a> for more info."
     ]
    }
   ],
   "source": [
    "import pandas as pd\n",
    "import seaborn as sns\n",
    "import matplotlib.pyplot as plt\n",
    "\n",
    "# Create a DataFrame from your data\n",
    "data = {\n",
    "    'Lux': [0, 130, 330, 1000],\n",
    "    'ADC': [44000, 52000, 58000, 63000]\n",
    "}\n",
    "df = pd.DataFrame(data)\n",
    "\n",
    "# Create the plot\n",
    "sns.set_theme(style=\"whitegrid\")\n",
    "plt.figure(figsize=(10, 6))\n",
    "sns.lineplot(x='Lux', y='ADC', data=df)\n",
    "\n",
    "# Set the labels\n",
    "plt.xlabel('Beleuchtungsstärke in Lux')\n",
    "plt.ylabel('ADC Wert')\n",
    "\n",
    "\n",
    "plt.show()"
   ]
  },
  {
   "cell_type": "code",
   "execution_count": null,
   "metadata": {},
   "outputs": [],
   "source": [
    "import pandas as pd\n",
    "import seaborn as sns\n",
    "import matplotlib.pyplot as plt\n",
    "\n",
    "# Create a DataFrame from your data\n",
    "data = {\n",
    "    'Lux': [0, 130, 330, 1000],\n",
    "    'ADC': [44000, 52000, 58000, 63000]\n",
    "}\n",
    "df = pd.DataFrame(data)\n",
    "\n",
    "from scipy.optimize import curve_fit\n",
    "import numpy as np\n",
    "\n",
    "def func(x,a,s):\n",
    "    return ((x-s)*a) **2\n",
    "\n",
    "\n",
    "# Get the x and y values\n",
    "xdata = df['Lux']\n",
    "ydata = df['ADC']\n",
    "\n",
    "# Plot the original data\n",
    "sns.lineplot(x='ADC', y='Lux', data=df)\n",
    "\n",
    "\n",
    "xdata =np.linspace(44000,2**16,20)\n",
    "\n",
    "popt = [0.0015,44000]\n",
    "\n",
    "# Plot the fitted curve\n",
    "#plt.plot(xdata, func(xdata, *popt), 'r-')\n",
    "plt.plot(xdata, func(xdata, *popt), 'r-')\n",
    "\n",
    "\n",
    "plt.xlabel('Beleuchtungsstärke in Lux')\n",
    "plt.ylabel('ADC')\n"
   ]
  }
 ],
 "metadata": {
  "kernelspec": {
   "display_name": "Python 3",
   "language": "python",
   "name": "python3"
  },
  "language_info": {
   "name": "python",
   "version": "3.12.0"
  }
 },
 "nbformat": 4,
 "nbformat_minor": 2
}
